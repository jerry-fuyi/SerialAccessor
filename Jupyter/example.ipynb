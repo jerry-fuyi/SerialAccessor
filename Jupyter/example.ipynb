{
 "cells": [
  {
   "cell_type": "code",
   "execution_count": 1,
   "id": "e4a1eb6f-bec8-4b89-9d5f-331bbd830807",
   "metadata": {},
   "outputs": [
    {
     "name": "stdout",
     "output_type": "stream",
     "text": [
      "COM20: STMicroelectronics STLink Virtual COM Port (COM20) [USB VID:PID=0483:374B SER=066CFF3530454D3043034435 LOCATION=1-3:x.2]\n"
     ]
    }
   ],
   "source": [
    "from g474 import *"
   ]
  },
  {
   "cell_type": "code",
   "execution_count": 2,
   "id": "e2a38d86-4ebf-4f2f-9cea-ee52e4367969",
   "metadata": {},
   "outputs": [
    {
     "data": {
      "text/html": [
       "<style type=\"text/css\">\n",
       "    table.register th {\n",
       "        font-weight: normal;\n",
       "        text-align: center !important;\n",
       "        padding: 2px;\n",
       "    }\n",
       "    table.register td {\n",
       "        text-align: center !important;\n",
       "        border: 1px solid;\n",
       "        word-wrap: break-word;\n",
       "        padding: 2px;\n",
       "    }\n",
       "    .jp-RenderedHTMLCommon tbody tr:nth-child(even) {\n",
       "        background: var(--jp-layout-color0);\n",
       "    }\n",
       "    .jp-RenderedHTMLCommon tbody tr:hover {\n",
       "        background: rgba(0, 0, 0, 0);\n",
       "    }\n",
       "</style>\n",
       "<table class=\"register\" style=\"width:800px\">\n",
       "    <tr>\n",
       "        <th>31</th>\n",
       "        <th>30</th>\n",
       "        <th>29</th>\n",
       "        <th>28</th>\n",
       "        <th>27</th>\n",
       "        <th>26</th>\n",
       "        <th>25</th>\n",
       "        <th>24</th>\n",
       "        <th>23</th>\n",
       "        <th>22</th>\n",
       "        <th>21</th>\n",
       "        <th>20</th>\n",
       "        <th>19</th>\n",
       "        <th>18</th>\n",
       "        <th>17</th>\n",
       "        <th>16</th>\n",
       "    </tr>\n",
       "    <tr>\n",
       "        <td>0</td>\n",
       "        <td>0</td>\n",
       "        <td>0</td>\n",
       "        <td>0</td>\n",
       "        <td>0</td>\n",
       "        <td>0</td>\n",
       "        <td>0</td>\n",
       "        <td>0</td>\n",
       "        <td>0</td>\n",
       "        <td>0</td>\n",
       "        <td>0</td>\n",
       "        <td>0</td>\n",
       "        <td>0</td>\n",
       "        <td>0</td>\n",
       "        <td>0</td>\n",
       "        <td>0</td>\n",
       "    <tr>\n",
       "        <th>15</th>\n",
       "        <th>14</th>\n",
       "        <th>13</th>\n",
       "        <th>12</th>\n",
       "        <th>11</th>\n",
       "        <th>10</th>\n",
       "        <th>9</th>\n",
       "        <th>8</th>\n",
       "        <th>7</th>\n",
       "        <th>6</th>\n",
       "        <th>5</th>\n",
       "        <th>4</th>\n",
       "        <th>3</th>\n",
       "        <th>2</th>\n",
       "        <th>1</th>\n",
       "        <th>0</th>\n",
       "    </tr>\n",
       "    <tr>\n",
       "        <td></td>\n",
       "        <td></td>\n",
       "        <td></td>\n",
       "        <td>DITHEN</td>\n",
       "        <td>UIFREMAP</td>\n",
       "        <td></td>\n",
       "        <td colspan=\"2\">CKD[1:0]</td>\n",
       "        <td>ARPE</td>\n",
       "        <td colspan=\"2\">CMS[1:0]</td>\n",
       "        <td>DIR</td>\n",
       "        <td>OPM</td>\n",
       "        <td>URS</td>\n",
       "        <td>UDIS</td>\n",
       "        <td>CEN</td>\n",
       "    </tr>\n",
       "    <tr>\n",
       "        <td>0</td>\n",
       "        <td>0</td>\n",
       "        <td>0</td>\n",
       "        <td>0</td>\n",
       "        <td>0</td>\n",
       "        <td>0</td>\n",
       "        <td>0</td>\n",
       "        <td>0</td>\n",
       "        <td>0</td>\n",
       "        <td>0</td>\n",
       "        <td>0</td>\n",
       "        <td>0</td>\n",
       "        <td>0</td>\n",
       "        <td>0</td>\n",
       "        <td>0</td>\n",
       "        <td>0</td>\n",
       "    </tr>\n"
      ],
      "text/plain": [
       "<IPython.core.display.HTML object>"
      ]
     },
     "metadata": {},
     "output_type": "display_data"
    },
    {
     "data": {
      "text/plain": [
       "DEC: 0, HEX: 0x00000000"
      ]
     },
     "execution_count": 2,
     "metadata": {},
     "output_type": "execute_result"
    }
   ],
   "source": [
    "TIM1.CR1"
   ]
  },
  {
   "cell_type": "code",
   "execution_count": 3,
   "id": "192a2578-77dd-4e26-a1ad-c102cdc553f7",
   "metadata": {},
   "outputs": [],
   "source": [
    "TIM1.CR1.CEN = 1"
   ]
  },
  {
   "cell_type": "code",
   "execution_count": 4,
   "id": "9a0bb99e-7c24-4748-b7dd-19a572ff0bf0",
   "metadata": {},
   "outputs": [
    {
     "data": {
      "text/plain": [
       "0b0"
      ]
     },
     "execution_count": 4,
     "metadata": {},
     "output_type": "execute_result"
    }
   ],
   "source": [
    "TIM1.CR1.CEN"
   ]
  },
  {
   "cell_type": "markdown",
   "id": "4cb0c19b-19f5-46f5-94a8-47fb5b15ca1f",
   "metadata": {},
   "source": [
    "What? We just wrote `1` to `CEN`.\n",
    "\n",
    "Actually, the clock for `TIM1` is not enabled yet."
   ]
  },
  {
   "cell_type": "code",
   "execution_count": 5,
   "id": "a105447d-f0e0-4576-a6a4-d55dfda8e9d4",
   "metadata": {},
   "outputs": [],
   "source": [
    "RCC.APB2ENR.TIM1EN = 1"
   ]
  },
  {
   "cell_type": "code",
   "execution_count": 6,
   "id": "cb4ca004-a10c-4f74-97a4-951b62af6468",
   "metadata": {},
   "outputs": [
    {
     "data": {
      "text/html": [
       "<style type=\"text/css\">\n",
       "    table.register th {\n",
       "        font-weight: normal;\n",
       "        text-align: center !important;\n",
       "        padding: 2px;\n",
       "    }\n",
       "    table.register td {\n",
       "        text-align: center !important;\n",
       "        border: 1px solid;\n",
       "        word-wrap: break-word;\n",
       "        padding: 2px;\n",
       "    }\n",
       "    .jp-RenderedHTMLCommon tbody tr:nth-child(even) {\n",
       "        background: var(--jp-layout-color0);\n",
       "    }\n",
       "    .jp-RenderedHTMLCommon tbody tr:hover {\n",
       "        background: rgba(0, 0, 0, 0);\n",
       "    }\n",
       "</style>\n",
       "<table class=\"register\" style=\"width:800px\">\n",
       "    <tr>\n",
       "        <th>31</th>\n",
       "        <th>30</th>\n",
       "        <th>29</th>\n",
       "        <th>28</th>\n",
       "        <th>27</th>\n",
       "        <th>26</th>\n",
       "        <th>25</th>\n",
       "        <th>24</th>\n",
       "        <th>23</th>\n",
       "        <th>22</th>\n",
       "        <th>21</th>\n",
       "        <th>20</th>\n",
       "        <th>19</th>\n",
       "        <th>18</th>\n",
       "        <th>17</th>\n",
       "        <th>16</th>\n",
       "    </tr>\n",
       "    <tr>\n",
       "        <td>0</td>\n",
       "        <td>0</td>\n",
       "        <td>0</td>\n",
       "        <td>0</td>\n",
       "        <td>0</td>\n",
       "        <td>0</td>\n",
       "        <td>0</td>\n",
       "        <td>0</td>\n",
       "        <td>0</td>\n",
       "        <td>0</td>\n",
       "        <td>0</td>\n",
       "        <td>0</td>\n",
       "        <td>0</td>\n",
       "        <td>0</td>\n",
       "        <td>0</td>\n",
       "        <td>0</td>\n",
       "    <tr>\n",
       "        <th>15</th>\n",
       "        <th>14</th>\n",
       "        <th>13</th>\n",
       "        <th>12</th>\n",
       "        <th>11</th>\n",
       "        <th>10</th>\n",
       "        <th>9</th>\n",
       "        <th>8</th>\n",
       "        <th>7</th>\n",
       "        <th>6</th>\n",
       "        <th>5</th>\n",
       "        <th>4</th>\n",
       "        <th>3</th>\n",
       "        <th>2</th>\n",
       "        <th>1</th>\n",
       "        <th>0</th>\n",
       "    </tr>\n",
       "    <tr>\n",
       "        <td></td>\n",
       "        <td></td>\n",
       "        <td></td>\n",
       "        <td>DITHEN</td>\n",
       "        <td>UIFREMAP</td>\n",
       "        <td></td>\n",
       "        <td colspan=\"2\">CKD[1:0]</td>\n",
       "        <td>ARPE</td>\n",
       "        <td colspan=\"2\">CMS[1:0]</td>\n",
       "        <td>DIR</td>\n",
       "        <td>OPM</td>\n",
       "        <td>URS</td>\n",
       "        <td>UDIS</td>\n",
       "        <td>CEN</td>\n",
       "    </tr>\n",
       "    <tr>\n",
       "        <td>0</td>\n",
       "        <td>0</td>\n",
       "        <td>0</td>\n",
       "        <td>0</td>\n",
       "        <td>0</td>\n",
       "        <td>0</td>\n",
       "        <td>0</td>\n",
       "        <td>0</td>\n",
       "        <td>0</td>\n",
       "        <td>0</td>\n",
       "        <td>0</td>\n",
       "        <td>0</td>\n",
       "        <td>0</td>\n",
       "        <td>0</td>\n",
       "        <td>0</td>\n",
       "        <td>1</td>\n",
       "    </tr>\n"
      ],
      "text/plain": [
       "<IPython.core.display.HTML object>"
      ]
     },
     "metadata": {},
     "output_type": "display_data"
    },
    {
     "data": {
      "text/plain": [
       "DEC: 1, HEX: 0x00000001"
      ]
     },
     "execution_count": 6,
     "metadata": {},
     "output_type": "execute_result"
    }
   ],
   "source": [
    "TIM1.CR1.CEN = 1\n",
    "TIM1.CR1"
   ]
  },
  {
   "cell_type": "code",
   "execution_count": null,
   "id": "ab50392d-15eb-4aed-aa37-c0bf4b4bfe81",
   "metadata": {},
   "outputs": [],
   "source": []
  }
 ],
 "metadata": {
  "kernelspec": {
   "display_name": "Python 3 (ipykernel)",
   "language": "python",
   "name": "python3"
  },
  "language_info": {
   "codemirror_mode": {
    "name": "ipython",
    "version": 3
   },
   "file_extension": ".py",
   "mimetype": "text/x-python",
   "name": "python",
   "nbconvert_exporter": "python",
   "pygments_lexer": "ipython3",
   "version": "3.9.13"
  }
 },
 "nbformat": 4,
 "nbformat_minor": 5
}
